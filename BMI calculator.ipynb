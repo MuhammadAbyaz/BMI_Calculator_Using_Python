{
 "cells": [
  {
   "cell_type": "code",
   "execution_count": null,
   "metadata": {},
   "outputs": [],
   "source": [
    "name = input(\"Enter your name : \")\n",
    "height_m = float(input(\"Enter your height in m : \"))\n",
    "weight_kg = float(input(\"Enter your weight in kg : \"))\n",
    "bmi = weight_kg / (height_m ** 2)\n",
    "\n",
    "print(\"Name : \" + str(name))\n",
    "print(\"Height : \" + str(height_m))\n",
    "print (\"Weight : \" + str(weight_kg))\n",
    "print(\"Your BMI is\" + str(bmi))\n",
    "\n",
    "if bmi < 18.5:\n",
    "    print(\"Your are Underweight\")    \n",
    "elif bmi >= 18.5 and bmi <= 24.9:\n",
    "    print(\"You are normal weight\")    \n",
    "elif bmi >= 25 and bmi <=29.9:\n",
    "    print(\"You are Overweight\")   \n",
    "else:\n",
    "    if bmi >= 30:\n",
    "        print(\"You are Obese\")"
   ]
  },
  {
   "cell_type": "code",
   "execution_count": null,
   "metadata": {},
   "outputs": [],
   "source": []
  }
 ],
 "metadata": {
  "kernelspec": {
   "display_name": "Python 3",
   "language": "python",
   "name": "python3"
  },
  "language_info": {
   "codemirror_mode": {
    "name": "ipython",
    "version": 3
   },
   "file_extension": ".py",
   "mimetype": "text/x-python",
   "name": "python",
   "nbconvert_exporter": "python",
   "pygments_lexer": "ipython3",
   "version": "3.7.6"
  }
 },
 "nbformat": 4,
 "nbformat_minor": 4
}
